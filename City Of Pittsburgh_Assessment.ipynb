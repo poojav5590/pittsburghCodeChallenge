{
 "cells": [
  {
   "cell_type": "code",
   "execution_count": 28,
   "metadata": {},
   "outputs": [
    {
     "name": "stderr",
     "output_type": "stream",
     "text": [
      "WARNING:root:Requests made without an app_token will be subject to strict throttling limits.\n"
     ]
    }
   ],
   "source": [
    "#!/usr/bin/env python\n",
    "\n",
    "# make sure to install these packages before running:\n",
    "# !pip install pandas\n",
    "# !pip install sodapy\n",
    "\n",
    "import pandas as pd\n",
    "from sodapy import Socrata\n",
    "\n",
    "# Unauthenticated client only works with public data sets. Note 'None'\n",
    "# in place of application token, and no username or password:\n",
    "client = Socrata(\"data.pa.gov\", None)\n",
    "\n",
    "# Example authenticated client (needed for non-public datasets):\n",
    "# client = Socrata(data.pa.gov,\n",
    "#                  MyAppToken,\n",
    "#                  userame=\"user@example.com\",\n",
    "#                  password=\"AFakePassword\")\n",
    "\n",
    "#Results returned as JSON from API / converted to Python list of\n",
    "# dictionaries by sodapy.\n",
    "results = client.get(\"4xnz-vz4w\")\n",
    "\n",
    "# Convert to pandas DataFrame\n",
    "results_df = pd.DataFrame.from_records(results)"
   ]
  },
  {
   "cell_type": "code",
   "execution_count": 30,
   "metadata": {},
   "outputs": [
    {
     "data": {
      "text/plain": [
       "67"
      ]
     },
     "execution_count": 30,
     "metadata": {},
     "output_type": "execute_result"
    }
   ],
   "source": [
    "len(results_df)"
   ]
  },
  {
   "cell_type": "code",
   "execution_count": 31,
   "metadata": {},
   "outputs": [
    {
     "data": {
      "text/html": [
       "<div>\n",
       "<style scoped>\n",
       "    .dataframe tbody tr th:only-of-type {\n",
       "        vertical-align: middle;\n",
       "    }\n",
       "\n",
       "    .dataframe tbody tr th {\n",
       "        vertical-align: top;\n",
       "    }\n",
       "\n",
       "    .dataframe thead th {\n",
       "        text-align: right;\n",
       "    }\n",
       "</style>\n",
       "<table border=\"1\" class=\"dataframe\">\n",
       "  <thead>\n",
       "    <tr style=\"text-align: right;\">\n",
       "      <th></th>\n",
       "      <th>county</th>\n",
       "      <th>total_voters</th>\n",
       "      <th>democratic_voters</th>\n",
       "      <th>republican_voters</th>\n",
       "      <th>other_voters</th>\n",
       "      <th>percent_repub</th>\n",
       "    </tr>\n",
       "  </thead>\n",
       "  <tbody>\n",
       "    <tr>\n",
       "      <td>0</td>\n",
       "      <td>ADAMS</td>\n",
       "      <td>72341</td>\n",
       "      <td>20050</td>\n",
       "      <td>40754</td>\n",
       "      <td>11537</td>\n",
       "      <td>56.34</td>\n",
       "    </tr>\n",
       "    <tr>\n",
       "      <td>1</td>\n",
       "      <td>ALLEGHENY</td>\n",
       "      <td>942747</td>\n",
       "      <td>539917</td>\n",
       "      <td>267977</td>\n",
       "      <td>134853</td>\n",
       "      <td>28.43</td>\n",
       "    </tr>\n",
       "    <tr>\n",
       "      <td>2</td>\n",
       "      <td>ARMSTRONG</td>\n",
       "      <td>44820</td>\n",
       "      <td>13658</td>\n",
       "      <td>25974</td>\n",
       "      <td>5188</td>\n",
       "      <td>57.95</td>\n",
       "    </tr>\n",
       "    <tr>\n",
       "      <td>3</td>\n",
       "      <td>BEAVER</td>\n",
       "      <td>116918</td>\n",
       "      <td>54252</td>\n",
       "      <td>47206</td>\n",
       "      <td>15460</td>\n",
       "      <td>40.38</td>\n",
       "    </tr>\n",
       "    <tr>\n",
       "      <td>4</td>\n",
       "      <td>BEDFORD</td>\n",
       "      <td>34238</td>\n",
       "      <td>7264</td>\n",
       "      <td>23728</td>\n",
       "      <td>3246</td>\n",
       "      <td>69.30</td>\n",
       "    </tr>\n",
       "  </tbody>\n",
       "</table>\n",
       "</div>"
      ],
      "text/plain": [
       "      county total_voters democratic_voters republican_voters other_voters  \\\n",
       "0      ADAMS        72341             20050             40754        11537   \n",
       "1  ALLEGHENY       942747            539917            267977       134853   \n",
       "2  ARMSTRONG        44820             13658             25974         5188   \n",
       "3     BEAVER       116918             54252             47206        15460   \n",
       "4    BEDFORD        34238              7264             23728         3246   \n",
       "\n",
       "   percent_repub  \n",
       "0          56.34  \n",
       "1          28.43  \n",
       "2          57.95  \n",
       "3          40.38  \n",
       "4          69.30  "
      ]
     },
     "execution_count": 31,
     "metadata": {},
     "output_type": "execute_result"
    }
   ],
   "source": [
    "results_df['percent_repub'] = round((results_df['republican_voters'].astype('int')/results_df['total_voters'].astype('int'))*100,2)\n",
    "results_df.head()"
   ]
  },
  {
   "cell_type": "code",
   "execution_count": 32,
   "metadata": {},
   "outputs": [
    {
     "data": {
      "text/html": [
       "<div>\n",
       "<style scoped>\n",
       "    .dataframe tbody tr th:only-of-type {\n",
       "        vertical-align: middle;\n",
       "    }\n",
       "\n",
       "    .dataframe tbody tr th {\n",
       "        vertical-align: top;\n",
       "    }\n",
       "\n",
       "    .dataframe thead th {\n",
       "        text-align: right;\n",
       "    }\n",
       "</style>\n",
       "<table border=\"1\" class=\"dataframe\">\n",
       "  <thead>\n",
       "    <tr style=\"text-align: right;\">\n",
       "      <th></th>\n",
       "      <th>county</th>\n",
       "      <th>total_voters</th>\n",
       "      <th>democratic_voters</th>\n",
       "      <th>republican_voters</th>\n",
       "      <th>other_voters</th>\n",
       "      <th>percent_repub</th>\n",
       "    </tr>\n",
       "  </thead>\n",
       "  <tbody>\n",
       "    <tr>\n",
       "      <td>4</td>\n",
       "      <td>BEDFORD</td>\n",
       "      <td>34238</td>\n",
       "      <td>7264</td>\n",
       "      <td>23728</td>\n",
       "      <td>3246</td>\n",
       "      <td>69.30</td>\n",
       "    </tr>\n",
       "    <tr>\n",
       "      <td>28</td>\n",
       "      <td>FULTON</td>\n",
       "      <td>9837</td>\n",
       "      <td>2014</td>\n",
       "      <td>6801</td>\n",
       "      <td>1022</td>\n",
       "      <td>69.14</td>\n",
       "    </tr>\n",
       "    <tr>\n",
       "      <td>52</td>\n",
       "      <td>POTTER</td>\n",
       "      <td>11310</td>\n",
       "      <td>2305</td>\n",
       "      <td>7755</td>\n",
       "      <td>1250</td>\n",
       "      <td>68.57</td>\n",
       "    </tr>\n",
       "    <tr>\n",
       "      <td>33</td>\n",
       "      <td>JUNIATA</td>\n",
       "      <td>14487</td>\n",
       "      <td>3364</td>\n",
       "      <td>9630</td>\n",
       "      <td>1493</td>\n",
       "      <td>66.47</td>\n",
       "    </tr>\n",
       "    <tr>\n",
       "      <td>49</td>\n",
       "      <td>PERRY</td>\n",
       "      <td>30027</td>\n",
       "      <td>6589</td>\n",
       "      <td>19669</td>\n",
       "      <td>3769</td>\n",
       "      <td>65.50</td>\n",
       "    </tr>\n",
       "  </tbody>\n",
       "</table>\n",
       "</div>"
      ],
      "text/plain": [
       "     county total_voters democratic_voters republican_voters other_voters  \\\n",
       "4   BEDFORD        34238              7264             23728         3246   \n",
       "28   FULTON         9837              2014              6801         1022   \n",
       "52   POTTER        11310              2305              7755         1250   \n",
       "33  JUNIATA        14487              3364              9630         1493   \n",
       "49    PERRY        30027              6589             19669         3769   \n",
       "\n",
       "    percent_repub  \n",
       "4           69.30  \n",
       "28          69.14  \n",
       "52          68.57  \n",
       "33          66.47  \n",
       "49          65.50  "
      ]
     },
     "execution_count": 32,
     "metadata": {},
     "output_type": "execute_result"
    }
   ],
   "source": [
    "results_df = results_df.sort_values(by=['percent_repub'],ascending=False)\n",
    "results_df.head()"
   ]
  },
  {
   "cell_type": "code",
   "execution_count": 33,
   "metadata": {},
   "outputs": [
    {
     "data": {
      "text/html": [
       "<div>\n",
       "<style scoped>\n",
       "    .dataframe tbody tr th:only-of-type {\n",
       "        vertical-align: middle;\n",
       "    }\n",
       "\n",
       "    .dataframe tbody tr th {\n",
       "        vertical-align: top;\n",
       "    }\n",
       "\n",
       "    .dataframe thead th {\n",
       "        text-align: right;\n",
       "    }\n",
       "</style>\n",
       "<table border=\"1\" class=\"dataframe\">\n",
       "  <thead>\n",
       "    <tr style=\"text-align: right;\">\n",
       "      <th></th>\n",
       "      <th>county</th>\n",
       "      <th>percent_repub</th>\n",
       "    </tr>\n",
       "  </thead>\n",
       "  <tbody>\n",
       "    <tr>\n",
       "      <td>4</td>\n",
       "      <td>BEDFORD</td>\n",
       "      <td>69.30</td>\n",
       "    </tr>\n",
       "    <tr>\n",
       "      <td>28</td>\n",
       "      <td>FULTON</td>\n",
       "      <td>69.14</td>\n",
       "    </tr>\n",
       "    <tr>\n",
       "      <td>52</td>\n",
       "      <td>POTTER</td>\n",
       "      <td>68.57</td>\n",
       "    </tr>\n",
       "    <tr>\n",
       "      <td>33</td>\n",
       "      <td>JUNIATA</td>\n",
       "      <td>66.47</td>\n",
       "    </tr>\n",
       "    <tr>\n",
       "      <td>49</td>\n",
       "      <td>PERRY</td>\n",
       "      <td>65.50</td>\n",
       "    </tr>\n",
       "    <tr>\n",
       "      <td>54</td>\n",
       "      <td>SNYDER</td>\n",
       "      <td>64.90</td>\n",
       "    </tr>\n",
       "    <tr>\n",
       "      <td>43</td>\n",
       "      <td>MIFFLIN</td>\n",
       "      <td>64.70</td>\n",
       "    </tr>\n",
       "    <tr>\n",
       "      <td>58</td>\n",
       "      <td>TIOGA</td>\n",
       "      <td>64.56</td>\n",
       "    </tr>\n",
       "    <tr>\n",
       "      <td>30</td>\n",
       "      <td>HUNTINGDON</td>\n",
       "      <td>63.40</td>\n",
       "    </tr>\n",
       "    <tr>\n",
       "      <td>32</td>\n",
       "      <td>JEFFERSON</td>\n",
       "      <td>62.45</td>\n",
       "    </tr>\n",
       "  </tbody>\n",
       "</table>\n",
       "</div>"
      ],
      "text/plain": [
       "        county  percent_repub\n",
       "4      BEDFORD          69.30\n",
       "28      FULTON          69.14\n",
       "52      POTTER          68.57\n",
       "33     JUNIATA          66.47\n",
       "49       PERRY          65.50\n",
       "54      SNYDER          64.90\n",
       "43     MIFFLIN          64.70\n",
       "58       TIOGA          64.56\n",
       "30  HUNTINGDON          63.40\n",
       "32   JEFFERSON          62.45"
      ]
     },
     "execution_count": 33,
     "metadata": {},
     "output_type": "execute_result"
    }
   ],
   "source": [
    "results_df_top10 = results_df.head(10)\n",
    "results_df_top10[['county','percent_repub']]"
   ]
  },
  {
   "cell_type": "code",
   "execution_count": 34,
   "metadata": {},
   "outputs": [
    {
     "name": "stdout",
     "output_type": "stream",
     "text": [
      "BEDFORD, 69.3% republican\n",
      "FULTON, 69.14% republican\n",
      "POTTER, 68.57% republican\n",
      "JUNIATA, 66.47% republican\n",
      "PERRY, 65.5% republican\n",
      "SNYDER, 64.9% republican\n",
      "MIFFLIN, 64.7% republican\n",
      "TIOGA, 64.56% republican\n",
      "HUNTINGDON, 63.4% republican\n",
      "JEFFERSON, 62.45% republican\n"
     ]
    }
   ],
   "source": [
    "for ind in results_df_top10.index: \n",
    "    print('{0}, {1}% republican'.format(results_df_top10['county'][ind], results_df_top10['percent_repub'][ind]))"
   ]
  },
  {
   "cell_type": "code",
   "execution_count": null,
   "metadata": {},
   "outputs": [],
   "source": []
  }
 ],
 "metadata": {
  "kernelspec": {
   "display_name": "Python 3",
   "language": "python",
   "name": "python3"
  },
  "language_info": {
   "codemirror_mode": {
    "name": "ipython",
    "version": 3
   },
   "file_extension": ".py",
   "mimetype": "text/x-python",
   "name": "python",
   "nbconvert_exporter": "python",
   "pygments_lexer": "ipython3",
   "version": "3.7.4"
  }
 },
 "nbformat": 4,
 "nbformat_minor": 2
}
